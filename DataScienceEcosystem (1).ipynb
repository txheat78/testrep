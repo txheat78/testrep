{
 "cells": [
  {
   "cell_type": "markdown",
   "id": "9626b151-0075-42cb-abfe-76de78f1d7df",
   "metadata": {},
   "source": [
    "## Author\n",
    "**Heather Poosuthasee**"
   ]
  },
  {
   "cell_type": "markdown",
   "id": "a12458d4-84d3-4a5d-a73b-03af771efe44",
   "metadata": {},
   "source": [
    "# Data Science Tools and Ecosystem"
   ]
  },
  {
   "cell_type": "markdown",
   "id": "2369355c-37ff-4d69-9da7-785130f6cede",
   "metadata": {},
   "source": [
    "## In this notebook, Data Science Tools and Ecosystem are summarized."
   ]
  },
  {
   "cell_type": "markdown",
   "id": "dd1522dc-af15-4a01-abd1-053106330886",
   "metadata": {},
   "source": [
    "**Objectives:**\n",
    "-Popular languages that Data Scientists use\n",
    "-Commononly used libraries used by Data Scientist\n",
    "-Data Science Tools "
   ]
  },
  {
   "cell_type": "markdown",
   "id": "6a7b162a-41e4-4238-8511-2abf98ce3858",
   "metadata": {},
   "source": [
    "### Some of the popular languages that Data Scientists use are:\n",
    "1. Python\n",
    "2. SQL\n",
    "3. R"
   ]
  },
  {
   "cell_type": "markdown",
   "id": "9a644537-994c-40ea-b0a5-dc2a844e9730",
   "metadata": {},
   "source": [
    "### Some of the commonly used libraries used by Data Scientists include:\n",
    "*NumPy\n",
    "*Pandas\n",
    "*Matplotlib\n",
    "*TensorFlow"
   ]
  },
  {
   "cell_type": "markdown",
   "id": "af44165a-5b5f-4d44-85db-50d38ee25e8d",
   "metadata": {},
   "source": [
    "| Data Science Tools |\n",
    "|--------------------|\n",
    "| RStudio |\n",
    "| Jupyter Notebooks |\n",
    "| VSCode |"
   ]
  },
  {
   "cell_type": "markdown",
   "id": "34b48e11-cb88-4eb5-a377-cd40dd07df7c",
   "metadata": {},
   "source": [
    "### Below are a few examples of evaluating arithmetic expressions in Python\n"
   ]
  },
  {
   "cell_type": "code",
   "execution_count": 10,
   "id": "a985a92d-5552-4e48-845b-64a17809271f",
   "metadata": {},
   "outputs": [
    {
     "data": {
      "text/plain": [
       "17"
      ]
     },
     "execution_count": 10,
     "metadata": {},
     "output_type": "execute_result"
    }
   ],
   "source": [
    "#This a simple arithmetic expression to mutiply then add integers\n",
    "(3*4)+5"
   ]
  },
  {
   "cell_type": "code",
   "execution_count": 12,
   "id": "b8217b5d-8724-403d-b3d9-f93d90bb6ed0",
   "metadata": {},
   "outputs": [
    {
     "data": {
      "text/plain": [
       "3.3333333333333335"
      ]
     },
     "execution_count": 12,
     "metadata": {},
     "output_type": "execute_result"
    }
   ],
   "source": [
    "#This will convert 200 minutes to hours by diving by 60\n",
    "200/60"
   ]
  },
  {
   "cell_type": "markdown",
   "id": "53072977-2e2a-4bc9-bf02-5a1b753a4e00",
   "metadata": {},
   "source": []
  }
 ],
 "metadata": {
  "kernelspec": {
   "display_name": "Python 3 (ipykernel)",
   "language": "python",
   "name": "python3"
  },
  "language_info": {
   "codemirror_mode": {
    "name": "ipython",
    "version": 3
   },
   "file_extension": ".py",
   "mimetype": "text/x-python",
   "name": "python",
   "nbconvert_exporter": "python",
   "pygments_lexer": "ipython3",
   "version": "3.12.9"
  }
 },
 "nbformat": 4,
 "nbformat_minor": 5
}
